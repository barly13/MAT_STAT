{
 "cells": [
  {
   "cell_type": "markdown",
   "metadata": {},
   "source": [
    "# Т - 4"
   ]
  },
  {
   "cell_type": "code",
   "execution_count": 269,
   "metadata": {},
   "outputs": [],
   "source": [
    "import numpy as np\n",
    "import matplotlib.pyplot as plt\n",
    "from random import randint\n",
    "import math\n",
    "import statistics\n",
    "from scipy.stats import moment\n",
    "from scipy import integrate"
   ]
  },
  {
   "cell_type": "markdown",
   "metadata": {},
   "source": [
    "## Письменные задачи:"
   ]
  },
  {
   "cell_type": "markdown",
   "metadata": {},
   "source": [
    "![jupyter](https://raw.githubusercontent.com/barly13/MAT_STAT/main/images/photo_2022-11-05%2014.49.57.jpeg)"
   ]
  },
  {
   "cell_type": "markdown",
   "metadata": {},
   "source": [
    "![jupyter](https://raw.githubusercontent.com/barly13/MAT_STAT/main/images/photo_2022-11-05%2014.50.00.jpeg)"
   ]
  },
  {
   "cell_type": "markdown",
   "metadata": {},
   "source": [
    "![jupyter](https://raw.githubusercontent.com/barly13/MAT_STAT/main/images/photo_2022-11-05%2014.50.03.jpeg)"
   ]
  },
  {
   "cell_type": "markdown",
   "metadata": {},
   "source": [
    "![jupyter](https://raw.githubusercontent.com/barly13/MAT_STAT/main/images/photo_2022-11-05%2014.50.06.jpeg)"
   ]
  },
  {
   "cell_type": "markdown",
   "metadata": {},
   "source": [
    "![jupyter](https://raw.githubusercontent.com/barly13/MAT_STAT/main/images/photo_2022-11-05%2014.50.10.jpeg)"
   ]
  },
  {
   "cell_type": "markdown",
   "metadata": {},
   "source": [
    "![jupyter](https://raw.githubusercontent.com/barly13/MAT_STAT/main/images/photo_2022-11-05%2014.50.13.jpeg)"
   ]
  },
  {
   "cell_type": "markdown",
   "metadata": {},
   "source": [
    "![jupyter](https://raw.githubusercontent.com/barly13/MAT_STAT/main/images/photo_2022-11-05%2014.50.17.jpeg)"
   ]
  },
  {
   "cell_type": "markdown",
   "metadata": {},
   "source": [
    "![jupyter](https://raw.githubusercontent.com/barly13/MAT_STAT/main/images/photo_2022-11-05%2014.50.20.jpeg)"
   ]
  },
  {
   "cell_type": "markdown",
   "metadata": {},
   "source": [
    "![jupyter](https://raw.githubusercontent.com/barly13/MAT_STAT/main/images/photo_2022-11-05%2014.50.25.jpeg)"
   ]
  },
  {
   "cell_type": "markdown",
   "metadata": {},
   "source": [
    "![jupyter](https://raw.githubusercontent.com/barly13/MAT_STAT/main/images/photo_2022-11-05%2014.50.28.jpeg)"
   ]
  },
  {
   "cell_type": "markdown",
   "metadata": {},
   "source": [
    "![jupyter](https://raw.githubusercontent.com/barly13/MAT_STAT/main/images/photo_2022-11-05%2014.50.34.jpeg)"
   ]
  },
  {
   "cell_type": "markdown",
   "metadata": {},
   "source": [
    "![jupyter](https://raw.githubusercontent.com/barly13/MAT_STAT/main/images/photo_2022-11-05%2014.50.37.jpeg)"
   ]
  },
  {
   "cell_type": "markdown",
   "metadata": {},
   "source": [
    "![jupyter](https://raw.githubusercontent.com/barly13/MAT_STAT/main/images/photo_2022-11-05%2014.50.40.jpeg)"
   ]
  },
  {
   "cell_type": "markdown",
   "metadata": {},
   "source": [
    "## Задачи для программирования:"
   ]
  },
  {
   "cell_type": "code",
   "execution_count": 311,
   "metadata": {},
   "outputs": [],
   "source": [
    "N, θ = 100, 100\n",
    "ε, β = 0.05, 0.95\n",
    "quantil = 1.96"
   ]
  },
  {
   "cell_type": "code",
   "execution_count": 312,
   "metadata": {},
   "outputs": [
    {
     "name": "stdout",
     "output_type": "stream",
     "text": [
      "Выборка объема 100 для θ = 100:  [198, 154, 140, 127, 195, 169, 104, 194, 133, 199, 157, 117, 176, 101, 132, 192, 107, 113, 136, 183, 183, 143, 180, 158, 125, 151, 161, 197, 193, 170, 193, 164, 157, 153, 144, 142, 193, 152, 193, 133, 186, 133, 192, 129, 146, 178, 132, 135, 104, 150, 143, 129, 104, 160, 149, 176, 196, 177, 119, 110, 184, 195, 133, 187, 112, 170, 156, 109, 127, 146, 192, 193, 129, 116, 133, 174, 122, 140, 151, 192, 167, 175, 183, 172, 164, 181, 161, 180, 187, 134, 188, 164, 163, 136, 172, 189, 128, 125, 188, 157]\n"
     ]
    }
   ],
   "source": [
    "inputs = [randint(θ, 2*θ) for i in range(N)]\n",
    "print(f\"Выборка объема {N} для θ = {θ}: \", inputs)"
   ]
  },
  {
   "cell_type": "code",
   "execution_count": 313,
   "metadata": {},
   "outputs": [],
   "source": [
    "def θ_OMP(inputs):\n",
    "    return max(inputs) * ((N + 1) / (2*N + 1))"
   ]
  },
  {
   "cell_type": "code",
   "execution_count": 314,
   "metadata": {},
   "outputs": [],
   "source": [
    "def accurate_interval(inputs):\n",
    "    accurate_interval.__name__ = 'Точный доверительный интервал'\n",
    "    return max(inputs) / (1 + pow(1 - ε/2, 1/N)), max(inputs) / (1 + pow(ε, 1/N))\n",
    "\n",
    "def omm_interval(inputs):\n",
    "    omm_interval.__name__ = 'Ассимптотический доверительный интервал(ОММ)'\n",
    "    estimation = 2/3 * np.mean(inputs)\n",
    "    return estimation - (2/3 * np.sqrt((moment(inputs, 2) - pow(moment(inputs, 1), 2)) / N) * quantil),\\\n",
    "            estimation - (2/3 * np.sqrt((moment(inputs, 2) - pow(moment(inputs, 1), 2)) / N) * (-quantil))\n",
    "\n",
    "def omp_interval(inputs):\n",
    "    omp_interval.__name__ = 'Ассимптотический доверительный интервал(ОМП)'\n",
    "    return θ_OMP(inputs) * (1 - quantil / pow(N, 1/2)), θ_OMP(inputs) * (1 + quantil / pow(N, 1/2))\n",
    "\n",
    "def bootsrap_interval(inputs):\n",
    "    bootsrap_interval.__name__ = 'Бутстраповский доверительный интервал'\n",
    "    θ = θ_OMP(inputs)\n",
    "    bootstrap = sorted([θ_OMP(np.random.choice(inputs, N)) - θ for i in range(1000)])\n",
    "    return θ - bootstrap[974], θ - bootstrap[24]"
   ]
  },
  {
   "cell_type": "code",
   "execution_count": 315,
   "metadata": {},
   "outputs": [
    {
     "name": "stdout",
     "output_type": "stream",
     "text": [
      "(99.51259560940491, 100.99026535563448) - Точный доверительный интервал с доверительной вероятностью 0.95\n",
      "(100.56146631322852, 107.90520035343812) - Ассимптотический доверительный интервал(ОММ) с доверительной вероятностью 0.95\n",
      "(80.396, 119.59404975124379) - Ассимптотический доверительный интервал(ОМП) с доверительной вероятностью 0.95\n",
      "(99.9950248756219, 101.50248756218906) - Бутстраповский доверительный интервал с доверительной вероятностью 0.95\n"
     ]
    }
   ],
   "source": [
    "print(f\"{accurate_interval(inputs)} - {accurate_interval.__name__} с доверительной вероятностью {β}\")\n",
    "print(f\"{omm_interval(inputs)} - {omm_interval.__name__} с доверительной вероятностью {β}\")\n",
    "print(f\"{omp_interval(inputs)} - {omp_interval.__name__} с доверительной вероятностью {β}\")\n",
    "print(f\"{bootsrap_interval(inputs)} - {bootsrap_interval.__name__} с доверительной вероятностью {β}\")"
   ]
  },
  {
   "cell_type": "code",
   "execution_count": 316,
   "metadata": {},
   "outputs": [
    {
     "name": "stdout",
     "output_type": "stream",
     "text": [
      "Точный доверительный интервал и его ширина 1.4776697462295658\n",
      "Ассимптотический доверительный интервал(ОММ) и его ширина 7.343734040209597\n",
      "Ассимптотический доверительный интервал(ОМП) и его ширина 39.198049751243786\n",
      "Бутстраповский доверительный интервал и его ширина 1.507462686567166\n",
      "\n",
      "Точный доверительный интервал имеет наименьшую ширину равную  1.4776697462295658\n"
     ]
    }
   ],
   "source": [
    "intervals = [accurate_interval, omm_interval, omp_interval, bootsrap_interval]\n",
    "\n",
    "width_dict = {}\n",
    "for i in intervals:\n",
    "    width_dict[i.__name__ + ' и его ширина'] = i(inputs)[1] - i(inputs)[0]\n",
    "    \n",
    "for i in range(len(width_dict)):\n",
    "    print(list(width_dict.keys())[i], list(width_dict.values())[i])\n",
    "    \n",
    "print()\n",
    "\n",
    "min_width = min(list(width_dict.values()))\n",
    "\n",
    "print(list(width_dict.keys())[list(width_dict.values()).index(min_width)][:-13] + ' имеет наименьшую ширину равную ', min_width)"
   ]
  },
  {
   "cell_type": "markdown",
   "metadata": {},
   "source": [
    "# Т - 5"
   ]
  },
  {
   "cell_type": "markdown",
   "metadata": {},
   "source": [
    "## Письменные задачи:"
   ]
  },
  {
   "cell_type": "markdown",
   "metadata": {},
   "source": [
    "![jupyter](https://raw.githubusercontent.com/barly13/MAT_STAT/main/images/photo_2022-11-05%2016.12.56.jpeg)"
   ]
  },
  {
   "cell_type": "markdown",
   "metadata": {},
   "source": [
    "![jupyter](https://raw.githubusercontent.com/barly13/MAT_STAT/main/images/photo_2022-11-05%2016.12.57.jpeg)"
   ]
  },
  {
   "cell_type": "markdown",
   "metadata": {},
   "source": [
    "![jupyter](https://raw.githubusercontent.com/barly13/MAT_STAT/main/images/photo_2022-11-05%2016.13.00.jpeg)"
   ]
  },
  {
   "cell_type": "markdown",
   "metadata": {},
   "source": [
    "![jupyter](https://raw.githubusercontent.com/barly13/MAT_STAT/main/images/photo_2022-11-05%2016.13.02.jpeg)"
   ]
  },
  {
   "cell_type": "markdown",
   "metadata": {},
   "source": [
    "![jupyter](https://raw.githubusercontent.com/barly13/MAT_STAT/main/images/photo_2022-11-05%2016.13.09.jpeg)"
   ]
  },
  {
   "cell_type": "markdown",
   "metadata": {},
   "source": [
    "## Задачи на программирование:"
   ]
  },
  {
   "cell_type": "code",
   "execution_count": 317,
   "metadata": {},
   "outputs": [],
   "source": [
    "N, θ = 100, 10\n",
    "ε, β = 0.05, 0.95\n",
    "quantil = 1.96"
   ]
  },
  {
   "cell_type": "code",
   "execution_count": 318,
   "metadata": {},
   "outputs": [],
   "source": [
    "def distribution(y):\n",
    "    return pow((1 - y), 1/(1 - θ))"
   ]
  },
  {
   "cell_type": "code",
   "execution_count": 319,
   "metadata": {},
   "outputs": [
    {
     "name": "stdout",
     "output_type": "stream",
     "text": [
      "[1.1400815014776047, 1.1382445935754502, 1.1372306351088524, 1.2377105053473845, 1.1313348377135808, 1.0891719758547938, 1.0424995701975859, 1.0638938227585504, 1.0425520479131292, 1.5544582973175611, 1.511623053128522, 1.0832200983286615, 1.0454582101264769, 1.1650976376985438, 1.0609132399317014, 1.1180709695138182, 1.0770727141942014, 1.127121096707973, 1.0216015095331183, 1.2801058885715408, 1.3213523081237954, 1.0241476719568685, 1.054371687104017, 1.000143529751242, 1.0711416271734115, 1.0373957523256323, 1.0947981537544094, 1.2143261396163327, 1.022435431903909, 1.1061672643992704, 1.2677491131453793, 1.159627487532911, 1.0910341324326456, 1.0308568962354416, 1.0334893170295483, 1.2672513657873874, 1.2304594469264825, 1.1979364922753963, 1.131843669590952, 1.039943142187067, 1.0702588806698763, 1.0965880184872963, 1.2658177869762413, 1.1096056198064144, 1.3304134227142523, 1.0136246664285442, 1.0794989185785722, 1.0171886065811473, 1.000836857283968, 1.0706993662543114, 1.016773897186801, 1.3650118235802962, 1.0680616093763555, 1.0639899937509214, 1.1882543719460374, 1.1550748784579685, 1.049322657838877, 1.0855114808388073, 1.542547292668008, 1.2710648445331558, 1.3472076259484498, 1.0779234719728361, 1.1281157945637565, 1.2893069775984505, 1.0377447104666915, 1.0409061209634465, 1.0630680847317242, 1.0219049162088418, 1.1169059863235546, 1.6100324374654902, 1.1180956452001825, 1.0279433669069318, 1.0318213542041732, 1.0021798582894634, 1.127994859688676, 1.1626771166066283, 1.0865725193602456, 1.1274170295346055, 1.067735348244959, 1.0275487877319573, 1.136699721658305, 1.0420374580372274, 1.0284483544228087, 1.0647859934310795, 1.0226096999586058, 1.0096954572998733, 1.072536103235997, 1.0626601586759987, 1.0619138546523454, 1.0877253106739366, 1.0431998744326632, 1.151141075159884, 1.0217138183336012, 1.0920321783424296, 1.0102206519478314, 1.0065241627395123, 1.0119717081856174, 1.0402936979073634, 1.0370216259325098, 1.0712733502674863]\n"
     ]
    }
   ],
   "source": [
    "inputs = [distribution(i) for i in np.random.sample(N)]\n",
    "print(inputs)"
   ]
  },
  {
   "cell_type": "code",
   "execution_count": 320,
   "metadata": {},
   "outputs": [],
   "source": [
    "def θ_OMP(inputs):\n",
    "    return 1 + N * (1 / sum([np.log(x) for x in inputs]))\n",
    "\n",
    "def θ_bayesian(inputs):\n",
    "     return 1 + N / (sum([np.log(x) for x in inputs]) + 1)"
   ]
  },
  {
   "cell_type": "code",
   "execution_count": 321,
   "metadata": {},
   "outputs": [
    {
     "name": "stdout",
     "output_type": "stream",
     "text": [
      "Оценка параметра для ММП: 10.33024209047872\n",
      "Медиана: 1.080059738892306\n",
      "Байесовская оценка: 9.533999296148332\n"
     ]
    }
   ],
   "source": [
    "print(f\"Оценка параметра для ММП: {θ_OMP(inputs)}\")\n",
    "print(f\"Медиана: {pow(2, 1/(θ - 1))}\")\n",
    "print(f\"Байесовская оценка: {θ_bayesian(inputs)}\")"
   ]
  },
  {
   "cell_type": "code",
   "execution_count": 322,
   "metadata": {},
   "outputs": [],
   "source": [
    "def omp_interval(inputs):\n",
    "    omp_interval.__name__ = 'Ассимптотический доверительный интервал(ОМП)'\n",
    "    θ = θ_OMP(inputs)\n",
    "    return θ - (quantil * (θ - 1) / pow(N, 1/2)), θ + (quantil * (θ - 1) / pow(N, 1/2))\n",
    "\n",
    "def medi_interval(inputs):\n",
    "    medi_interval.__name__ = 'Доверительный интервал для медианы'\n",
    "    θ = θ_OMP(inputs)\n",
    "    return pow(2, 1/(θ - 1)) * (1 - quantil * np.log(2) / (pow(N, 1/2) * (θ - 1))),\\\n",
    "            pow(2, 1/(θ - 1)) * (1 + quantil * np.log(2) / (pow(N, 1/2) * (θ - 1)))\n",
    "    \n",
    "def parametric_bootsrap_interval(inputs):\n",
    "    parametric_bootsrap_interval.__name__ = 'Параметрический бутстраповский доверительный интервал'\n",
    "    bootstrap = sorted([θ_OMP([distribution(x) for x in np.random.sample(N)]) for i in range(50000)])\n",
    "    return bootstrap[int((ε/2)*50000)], bootstrap[int(β*50000)]\n",
    "    \n",
    "def nonparametric_bootsrap_interval(inputs):\n",
    "    nonparametric_bootsrap_interval.__name__ = 'Непараметрический бутстраповский доверительный интервал'\n",
    "    θ = θ_OMP(inputs)\n",
    "    bootstrap = sorted([θ_OMP(np.random.choice(inputs, N)) - θ for i in range(1000)])\n",
    "    return θ - bootstrap[974], θ - bootstrap[24]\n",
    "    \n",
    "def bayesian_interval(inputs):\n",
    "    bayesian_interval.__name__ = 'Байесовский интервал'\n",
    "    function = lambda x: np.exp(1 - x)/pow(np.prod(inputs), x) * pow((x - 1), len(inputs))\n",
    "    \n",
    "    Cu, Cd = 100, 1\n",
    "    \n",
    "    val, _ = integrate.quad(function, Cd, Cu)\n",
    "    C = 1/val\n",
    "    \n",
    "    q = [0, 0]\n",
    "    prob = [0.025, 0.975]\n",
    "    \n",
    "    for i in range(2):\n",
    "        upindex, downindex = Cu, Cd\n",
    "        while True:\n",
    "            v, err = integrate.quad(function, 1, (upindex + downindex)/2)\n",
    "            v *= C\n",
    "            if abs(v - prob[i]) < 0.0001:\n",
    "                q[i] = (upindex + downindex)/2\n",
    "                break\n",
    "            if v > prob[i]:\n",
    "                upindex = (upindex + downindex)/2\n",
    "            else:\n",
    "                downindex = (upindex + downindex)/2\n",
    "                \n",
    "    return tuple(q)"
   ]
  },
  {
   "cell_type": "code",
   "execution_count": 323,
   "metadata": {},
   "outputs": [
    {
     "name": "stdout",
     "output_type": "stream",
     "text": [
      "(8.50151464074489, 12.15896954021255) - Ассимптотический доверительный интервал(ОМП) с доверительной вероятностью 0.95\n",
      "(1.0614356840974464, 1.092803372515082) - Доверительный интервал для медианы с доверительной вероятностью 0.95\n",
      "(8.460012799660776, 11.697721062485787) - Параметрический бутстраповский доверительный интервал с доверительной вероятностью 0.95\n",
      "(8.244429295631472, 11.869403527349448) - Непараметрический бутстраповский доверительный интервал с доверительной вероятностью 0.95\n",
      "(8.0213623046875, 11.3809814453125) - Байесовский интервал с доверительной вероятностью 0.95\n"
     ]
    },
    {
     "name": "stderr",
     "output_type": "stream",
     "text": [
      "<ipython-input-322-fb0454b1d969>:25: RuntimeWarning: overflow encountered in double_scalars\n",
      "  function = lambda x: np.exp(1 - x)/pow(np.prod(inputs), x) * pow((x - 1), len(inputs))\n"
     ]
    }
   ],
   "source": [
    "print(f\"{omp_interval(inputs)} - {omp_interval.__name__} с доверительной вероятностью {β}\")\n",
    "print(f\"{medi_interval(inputs)} - {medi_interval.__name__} с доверительной вероятностью {β}\")\n",
    "print(f\"{parametric_bootsrap_interval(inputs)} - {parametric_bootsrap_interval.__name__} с доверительной вероятностью {β}\")\n",
    "print(f\"{nonparametric_bootsrap_interval(inputs)} - {nonparametric_bootsrap_interval.__name__} с доверительной вероятностью {β}\")\n",
    "print(f\"{bayesian_interval(inputs)} - {bayesian_interval.__name__} с доверительной вероятностью {β}\")"
   ]
  },
  {
   "cell_type": "code",
   "execution_count": 325,
   "metadata": {},
   "outputs": [
    {
     "name": "stdout",
     "output_type": "stream",
     "text": [
      "Ассимптотический доверительный интервал(ОМП) и его ширина 3.657454899467659\n",
      "Параметрический бутстраповский доверительный интервал и его ширина 3.2366172977321526\n",
      "Непараметрический бутстраповский доверительный интервал и его ширина 3.421822739412727\n",
      "Байесовский интервал и его ширина 3.359619140625\n",
      "\n",
      "Параметрический бутстраповский доверительный интервал имеет наименьшую ширину равную  3.2366172977321526\n"
     ]
    },
    {
     "name": "stderr",
     "output_type": "stream",
     "text": [
      "<ipython-input-322-fb0454b1d969>:25: RuntimeWarning: overflow encountered in double_scalars\n",
      "  function = lambda x: np.exp(1 - x)/pow(np.prod(inputs), x) * pow((x - 1), len(inputs))\n"
     ]
    }
   ],
   "source": [
    "intervals = [omp_interval, parametric_bootsrap_interval, nonparametric_bootsrap_interval, bayesian_interval]\n",
    "width_dict = {}\n",
    "for i in intervals:\n",
    "    width_dict[i.__name__ + ' и его ширина'] = i(inputs)[1] - i(inputs)[0]\n",
    "    \n",
    "for i in range(len(width_dict)):\n",
    "    print(list(width_dict.keys())[i], list(width_dict.values())[i])\n",
    "    \n",
    "print()\n",
    "\n",
    "min_width = min(list(width_dict.values()))\n",
    "\n",
    "print(list(width_dict.keys())[list(width_dict.values()).index(min_width)][:-13] + ' имеет наименьшую ширину равную ', min_width)"
   ]
  },
  {
   "cell_type": "code",
   "execution_count": null,
   "metadata": {},
   "outputs": [],
   "source": []
  }
 ],
 "metadata": {
  "kernelspec": {
   "display_name": "Python 3",
   "language": "python",
   "name": "python3"
  },
  "language_info": {
   "codemirror_mode": {
    "name": "ipython",
    "version": 3
   },
   "file_extension": ".py",
   "mimetype": "text/x-python",
   "name": "python",
   "nbconvert_exporter": "python",
   "pygments_lexer": "ipython3",
   "version": "3.8.3"
  }
 },
 "nbformat": 4,
 "nbformat_minor": 4
}
